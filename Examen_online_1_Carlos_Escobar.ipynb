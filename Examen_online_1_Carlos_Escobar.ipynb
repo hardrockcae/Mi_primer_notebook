{
 "cells": [
  {
   "cell_type": "markdown",
   "id": "1f1401c1-4dc9-4902-95bf-160715a42a25",
   "metadata": {},
   "source": [
    "# Prueba de Ramp-up"
   ]
  },
  {
   "cell_type": "markdown",
   "id": "1b34c670-a6dd-482d-9b04-5babee7be17a",
   "metadata": {},
   "source": [
    "Antes de comenzar, cambia el nombre del archivo notebook poniéndole delante tu nombre y primer apellido:\n",
    "\n",
    "* ``<nombre_apellido>_examen_online.ipynb``"
   ]
  },
  {
   "cell_type": "code",
   "execution_count": 1,
   "id": "c8d9a657-272c-425a-9ac4-ea59f479673c",
   "metadata": {},
   "outputs": [],
   "source": [
    "# Escribe tu nombre en la variable:\n",
    "nombre_y_apellidos = \"\" "
   ]
  },
  {
   "cell_type": "markdown",
   "id": "c945b91c",
   "metadata": {},
   "source": [
    "<h1 style=\"font-size: 34px;\">Carlos Escobar</h1>"
   ]
  },
  {
   "cell_type": "code",
   "execution_count": 1,
   "id": "f83dd98b",
   "metadata": {},
   "outputs": [],
   "source": [
    "nombre_y_apellidos = \"Carlos Escobar\""
   ]
  },
  {
   "cell_type": "code",
   "execution_count": 2,
   "id": "2e9f9af5-076c-44ec-9a80-95c0e99cdc58",
   "metadata": {},
   "outputs": [],
   "source": [
    "\"\"\"\n",
    "Criterios de corrección:\n",
    "\n",
    "ejecución (ausencia de errores y obtención de resultados)\n",
    "estructura del código\n",
    "uso correcto de variables\n",
    "manejo de tipo de variables\n",
    "asignaciones\n",
    "operaciones booleanas\n",
    "manejo lógico de flujos de control y bucles\n",
    "uso de colecciones\n",
    "uso de funciones\n",
    "\"\"\";\n",
    "\n",
    "# Ejemplo de como queremos ver el código para más de un intento:\n",
    "\n",
    "# intento 1\n",
    "#your code\n",
    "\n",
    "# intento 2\n",
    "#your code"
   ]
  },
  {
   "cell_type": "code",
   "execution_count": 3,
   "id": "bb16d0e3-3bb9-4f2b-944e-8fc35e628701",
   "metadata": {},
   "outputs": [],
   "source": [
    "# crea todas las celdas que necesites"
   ]
  },
  {
   "cell_type": "markdown",
   "id": "9e02b8f5-6f66-4e73-acfa-7f8c3977de2a",
   "metadata": {},
   "source": [
    "#### Notas y pruebas de apoyo para contestar las preguntas\n",
    "\n",
    "\n",
    "Cualquier código aunque no esté correcto nos dirá más de ti que no escribir nada. "
   ]
  },
  {
   "cell_type": "markdown",
   "id": "57d6b062-27f8-4377-b583-d662777b0bd7",
   "metadata": {},
   "source": [
    "__Debes subir este notebook a tu REPO PERSONAL__\n",
    "\n",
    "__Hora: hasta las 13:30 del 06/11/2024__"
   ]
  },
  {
   "cell_type": "markdown",
   "id": "062d81e8",
   "metadata": {},
   "source": [
    "#### Ejercicio 1\n",
    "\n",
    "Disponemos de una lista con información sobre varios empleados:\n",
    "\n",
    "    empleados = \n",
    "    [[12345, \"Juan Rodríguez\", 53, [\"Director financiero\"], 2],[56789, \"Laura Pérez\", 41, [\"CEO\", \"Director\", \"Gerente\"], 2],[88354, \"Pedro Álvarez\", 26, [\"Asistente\",\"Gestor comercial\"], 3]]\n",
    "\n",
    "Respecto de cada empleado, la lista contiene cinco elementos: en el primero almacenamos su tfno, en el segundo su nombre, en el tercero su edad, en el cuarto los puestos que ha desempeñado en la empresa (en forma de lista) y en el quinto su código postal.\n",
    "\n",
    "1. Siguiendo la misma estructura, incluye un nuevo empleado en la última posición de la lista empleados.\n",
    "\n",
    "2. Mostrar por pantalla, sin uso de funciones (salvo print) ni bucles: \n",
    "\n",
    "    - El nombre y la edad del tercer empleado de la lista empleados.\n",
    "    - Los puestos desempeñados por Pedro Álvarez, ordenados de atras a adelante (es decir, de Gestor comercial a Asistente)\n",
    "    - Si el nuevo empleado que has añadido tiene más o igual a 60 años, muestra por pantalla los puestos que el nuevo empleado haya desempeñado en la empresa. En caso contrario, muestra los puestos desempeñados por Laura Pérez y Juan Rodriguez."
   ]
  },
  {
   "cell_type": "code",
   "execution_count": null,
   "id": "ae316b4b",
   "metadata": {},
   "outputs": [
    {
     "name": "stdout",
     "output_type": "stream",
     "text": [
      "Nombre del tercer empleado: Pedro Álvarez\n",
      "Edad del tercer empleado: 26\n",
      "Puestos de Pedro Álvarez en orden inverso: ['Gestor comercial', 'Asistente']\n",
      "Puestos del nuevo empleado: ['Analista', 'Consultor']\n"
     ]
    }
   ],
   "source": [
    "\n",
    "# Lista inicial de empleados\n",
    "\n",
    "empleados = [\n",
    "    [12345, \"Juan Rodríguez\", 53, [\"Director financiero\"], 2],\n",
    "    [56789, \"Laura Pérez\", 41, [\"CEO\", \"Director\", \"Gerente\"], 2],\n",
    "    [88354, \"Pedro Álvarez\", 26, [\"Asistente\", \"Gestor comercial\"], 3]\n",
    "]\n",
    "# 1. Añadir un nuevo empleado siguiendo la misma estructura\n",
    "nuevo_empleado = [98765, \"Carlos Escobar\", 60, [\"Analista\", \"Consultor\"], 4]\n",
    "empleados.append(nuevo_empleado)\n",
    "\n",
    "# 2. Mostrar la información solicitada\n",
    "\n",
    "# a) Nombre y edad del tercer empleado\n",
    "print(\"Nombre del tercer empleado:\", empleados[2][1])\n",
    "print(\"Edad del tercer empleado:\", empleados[2][2])\n",
    "\n",
    "# b) Puestos de Pedro Álvarez en orden inverso\n",
    "print(\"Puestos de Pedro Álvarez en orden inverso:\", empleados[2][3][::-1])\n",
    "# c) Comprobación de la edad del nuevo empleado y mostrar puestos de acuerdo a la condición\n",
    "if empleados[-1][2] >= 60:\n",
    "    print(\"Puestos del nuevo empleado:\", empleados[-1][3])\n",
    "else:\n",
    "    print(\"Puestos de Laura Pérez:\", empleados[1][3])\n",
    "    print(\"Puestos de Juan Rodríguez:\", empleados[0][3])"
   ]
  },
  {
   "cell_type": "code",
   "execution_count": 3,
   "id": "8c542a37",
   "metadata": {},
   "outputs": [
    {
     "name": "stdout",
     "output_type": "stream",
     "text": [
      "[98765, 'Carlos Escobar', 60, ['Analista', 'Consultor'], 4]\n"
     ]
    }
   ],
   "source": [
    "# Lista inicial de empleados\n",
    "empleados = [\n",
    "    [12345, \"Juan Rodríguez\", 53, [\"Director financiero\"], 2],\n",
    "    [56789, \"Laura Pérez\", 41, [\"CEO\", \"Director\", \"Gerente\"], 2],\n",
    "    [88354, \"Pedro Álvarez\", 26, [\"Asistente\", \"Gestor comercial\"], 3]\n",
    "]\n",
    "# 1. Añadir un nuevo empleado siguiendo la misma estructura\n",
    "nuevo_empleado = [98765, \"Carlos Escobar\", 60, [\"Analista\", \"Consultor\"], 4]\n",
    "empleados.append(nuevo_empleado)\n",
    "print(nuevo_empleado)"
   ]
  },
  {
   "cell_type": "code",
   "execution_count": 4,
   "id": "94baa8f8",
   "metadata": {},
   "outputs": [
    {
     "name": "stdout",
     "output_type": "stream",
     "text": [
      "Nombre del tercer empleado: Pedro Álvarez\n",
      "Edad del tercer empleado: 26\n"
     ]
    }
   ],
   "source": [
    "# 2. Mostrar la información solicitada\n",
    "\n",
    "# a) Nombre y edad del tercer empleado\n",
    "print(\"Nombre del tercer empleado:\", empleados[2][1])\n",
    "print(\"Edad del tercer empleado:\", empleados[2][2])"
   ]
  },
  {
   "cell_type": "code",
   "execution_count": 5,
   "id": "ba24e533",
   "metadata": {},
   "outputs": [
    {
     "name": "stdout",
     "output_type": "stream",
     "text": [
      "Puestos de Pedro Álvarez en orden inverso: ['Gestor comercial', 'Asistente']\n",
      "Puestos del nuevo empleado: ['Analista', 'Consultor']\n"
     ]
    }
   ],
   "source": [
    "# b) Puestos de Pedro Álvarez en orden inverso\n",
    "print(\"Puestos de Pedro Álvarez en orden inverso:\", empleados[2][3][::-1])\n",
    "# c) Comprobación de la edad del nuevo empleado y mostrar puestos de acuerdo a la condición\n",
    "if empleados[-1][2] >= 60:\n",
    "    print(\"Puestos del nuevo empleado:\", empleados[-1][3])\n",
    "else:\n",
    "    print(\"Puestos de Laura Pérez:\", empleados[1][3])\n",
    "    print(\"Puestos de Juan Rodríguez:\", empleados[0][3])"
   ]
  },
  {
   "cell_type": "markdown",
   "id": "4da89624-0da3-4f91-aa5c-a084c5ee1b17",
   "metadata": {},
   "source": [
    "#### Ejercicio 2. \n",
    "\n",
    "Escribe un programa que te diga si una letra es una consonante o una vocal. Crea tu propia **FUNCIÓN**\n"
   ]
  },
  {
   "cell_type": "code",
   "execution_count": 8,
   "id": "c58bf610-92de-4a5a-a00d-652279ea33dd",
   "metadata": {},
   "outputs": [
    {
     "name": "stdout",
     "output_type": "stream",
     "text": [
      "Es una consonante.\n"
     ]
    }
   ],
   "source": [
    "# Definimos la función para verificar si una letra es vocal o consonante\n",
    "def es_vocal_o_consonante(letra):\n",
    "    # Convertimos la letra a minúscula para que la comparación no distinga entre mayúsculas y minúsculas\n",
    "    letra = letra.lower()\n",
    "    \n",
    "    # Definimos las vocales\n",
    "    vocales = \"aeiou\"\n",
    "    \n",
    "    # Verificamos si la letra está en las vocales\n",
    "    if letra in vocales:\n",
    "        return \"Es una vocal.\"\n",
    "    elif letra.isalpha():  # Comprobamos si es una letra del alfabeto\n",
    "        return \"Es una consonante.\"\n",
    "    else:\n",
    "        return \"No es una letra válida.\"\n",
    "\n",
    "# Solicitamos al usuario que ingrese una letra\n",
    "letra = input(\"Ingresa una letra: \")\n",
    "\n",
    "# Llamamos a la función y mostramos el resultado\n",
    "resultado = es_vocal_o_consonante(letra)\n",
    "print(resultado)"
   ]
  },
  {
   "cell_type": "markdown",
   "id": "52065a6c-3d4c-44c0-a10b-958506c481b3",
   "metadata": {},
   "source": [
    "#### Ejercicio 3. \n",
    "\n",
    "Escribe un programa que calcule la edad humana de un perro.\n",
    "Tienes que pedirle al usuario la edad del perro en años.\n",
    "Si el usuario introduce un número negativo, imprime que la cifra facilitada no tiene sentido. Si el perro tiene un año, son 14 años humanos. Si tiene 2 años, son 22 años humanos.\n",
    "A partir de los 2 años, el cálculo es el siguiente: a la edad del perro se le restan 2 años, el resultado se multiplica por 5 y, finalmente, se le suma 22.\n",
    "Usa una función sin argumentos de entrada ni de salida (muestra toda la información con print())"
   ]
  },
  {
   "cell_type": "code",
   "execution_count": 13,
   "id": "9c59c801-1fe1-4a6d-a000-f85ca738ed00",
   "metadata": {},
   "outputs": [
    {
     "name": "stdout",
     "output_type": "stream",
     "text": [
      "La edad humana del perro es 37 años.\n"
     ]
    }
   ],
   "source": [
    "def calcular_edad_humana():\n",
    "    edad_perro = int(input(\"Introduce la edad del perro en años: \"))\n",
    "    \n",
    "    if edad_perro < 0:\n",
    "        print(\"La cifra facilitada no tiene sentido.\")\n",
    "    elif edad_perro == 1:\n",
    "        print(\"La edad humana del perro es 14 años.\")\n",
    "    elif edad_perro == 2:\n",
    "        print(\"La edad humana del perro es 22 años.\")\n",
    "    else:\n",
    "        edad_humana = (edad_perro - 2) * 5 + 22\n",
    "        print(f\"La edad humana del perro es {edad_humana} años.\")\n",
    "\n",
    "# Llamada a la función\n",
    "calcular_edad_humana()"
   ]
  },
  {
   "cell_type": "markdown",
   "id": "2991309f-4208-431a-900c-d9bc734bb936",
   "metadata": {},
   "source": [
    "#### Ejercicio 4. \n",
    "\n",
    "Escribe un programa que te diga si una frase es un pangrama. Un pangrama es una frase que contiene todas las letras del alfabeto.\n",
    "Puedes tener espacios en blanco, pero NO  tendrás signos de puntuación, a excepción de las tildes.\n",
    "\n",
    "Ejemplo de pangrama:\n",
    "\n",
    "Extraño pan de col y kiwi se quemó bajo fugaz vaho "
   ]
  },
  {
   "cell_type": "code",
   "execution_count": 15,
   "id": "9a349c1e-15ab-4253-97f8-2a07a263791d",
   "metadata": {},
   "outputs": [
    {
     "name": "stdout",
     "output_type": "stream",
     "text": [
      "La frase no es un pangrama.\n",
      "Frase ingresada: El rápido zorro marrón salta sobre el perro perezoso\n"
     ]
    }
   ],
   "source": [
    "def es_pangrama(frase):\n",
    "    # Convertimos la frase a minúsculas y removemos espacios en blanco\n",
    "    frase = frase.lower().replace(\" \", \"\")\n",
    "    \n",
    "    # Definimos el alfabeto español (incluyendo letras con tildes si es necesario)\n",
    "    alfabeto = \"abcdefghijklmnñopqrstuvwxyz\"\n",
    "    \n",
    "    # Recorremos cada letra del alfabeto y comprobamos si está en la frase\n",
    "    for letra in alfabeto:\n",
    "        if letra not in frase:\n",
    "            return False\n",
    "    \n",
    "    return True\n",
    "\n",
    "# Prueba del programa\n",
    "frase = input(\"Introduce una frase para verificar si es un pangrama: \")\n",
    "if es_pangrama(frase):\n",
    "    print(\"La frase es un pangrama.\")\n",
    "else:\n",
    "    print(\"La frase no es un pangrama.\")\n",
    "\n",
    "# Imprimir la frase original ingresada por el usuario\n",
    "print(\"Frase ingresada:\", frase)"
   ]
  },
  {
   "cell_type": "markdown",
   "id": "3dbb76e0-79b2-45e8-9034-58ee9cbd82bb",
   "metadata": {},
   "source": [
    "#### Ejercicio 5. \n",
    "\n",
    "Escribe un programa que use diccionarios para traducir palabras entre varios idiomas.\n",
    "Deberás pedirle al usuario una palabra por teclado, ver si está en tu diccionario. En caso de que esté, deberás mostrar la traducción de esa palabra.\n",
    "\n",
    "Ejemplo de diccionario:\n",
    "\n",
    "```python\n",
    "{\"file\": \"Fichier\", \"new\": \"Nouveau\", \"open\": \"Ouvrir\", \"save\": \"Enregistrer\", \"save as\": \"Enregistrer sous\", \"print preview\": \"Apercu avant impressioner\", \"print\": \"Imprimer\", \"close\": \"Fermer\", \"exit\": \"Quitter\"}\n"
   ]
  },
  {
   "cell_type": "code",
   "execution_count": 18,
   "id": "88236123-e8ac-45da-87d0-134a88a690c1",
   "metadata": {},
   "outputs": [
    {
     "name": "stdout",
     "output_type": "stream",
     "text": [
      "La palabra 'place' no está en el diccionario.\n"
     ]
    }
   ],
   "source": [
    "# Diccionario de traducción inglés-francés\n",
    "diccionario = {\n",
    "    \"file\": \"Fichier\",\n",
    "    \"new\": \"Nouveau\",\n",
    "    \"open\": \"Ouvrir\",\n",
    "    \"save\": \"Enregistrer\",\n",
    "    \"save as\": \"Enregistrer sous\",\n",
    "    \"print preview\": \"Aperçu avant impression\",\n",
    "    \"print\": \"Imprimer\",\n",
    "    \"close\": \"Fermer\",\n",
    "    \"exit\": \"Quitter\"\n",
    "}\n",
    "\n",
    "# Solicitar palabra al usuario\n",
    "palabra = input(\"Introduce una palabra en inglés para traducir al francés: \").strip().lower()\n",
    "\n",
    "# Verificar si la palabra está en el diccionario y mostrar la traducción\n",
    "if palabra in diccionario:\n",
    "    print(f\"La traducción de '{palabra}' es: '{diccionario[palabra]}'\")\n",
    "else:\n",
    "    print(f\"La palabra '{palabra}' no está en el diccionario.\")"
   ]
  },
  {
   "cell_type": "markdown",
   "id": "61967ca4-7e06-44b3-ad7b-adbc0e71671a",
   "metadata": {},
   "source": [
    "#### Ejercicio 6. (Bonus).\n",
    "\n",
    "Usando `OOP` modela un theremin (es un instrumento musical que se toca modificando el campo electromagnético, por si tenías curiosidad).\n",
    "Tendrá de atributos la marca, el modelo, el peso, la potencia y la batería.\n",
    "\n",
    "Todos los instrumentos se crean con un peso predeterminado de 500, una potencia de 50 y una batería de 200.\n",
    "\n",
    "Cuando se recarga la batería vale 200.\n",
    "\n",
    "Cuando se toca, se muestra por pantalla que está sonando y la batería disminuye 10 (no siendo nunca negativo).\n",
    "Si no hay batería, no puede sonar. Crea un instrumento, tócalo mientras quede batería, cárgalo y no lo vuelvas a tocar.\n"
   ]
  },
  {
   "cell_type": "code",
   "execution_count": 19,
   "id": "8082c8cd-03a9-478e-aa72-4ec1306e1bb2",
   "metadata": {},
   "outputs": [
    {
     "name": "stdout",
     "output_type": "stream",
     "text": [
      "El theremin está sonando. Batería restante: 190.\n",
      "El theremin está sonando. Batería restante: 180.\n",
      "El theremin está sonando. Batería restante: 170.\n",
      "El theremin está sonando. Batería restante: 160.\n",
      "El theremin está sonando. Batería restante: 150.\n",
      "El theremin está sonando. Batería restante: 140.\n",
      "El theremin está sonando. Batería restante: 130.\n",
      "El theremin está sonando. Batería restante: 120.\n",
      "El theremin está sonando. Batería restante: 110.\n",
      "El theremin está sonando. Batería restante: 100.\n",
      "El theremin está sonando. Batería restante: 90.\n",
      "El theremin está sonando. Batería restante: 80.\n",
      "El theremin está sonando. Batería restante: 70.\n",
      "El theremin está sonando. Batería restante: 60.\n",
      "El theremin está sonando. Batería restante: 50.\n",
      "El theremin está sonando. Batería restante: 40.\n",
      "El theremin está sonando. Batería restante: 30.\n",
      "El theremin está sonando. Batería restante: 20.\n",
      "El theremin está sonando. Batería restante: 10.\n",
      "El theremin está sonando. Batería restante: 0.\n",
      "La batería ha sido recargada a 200.\n",
      "El theremin está sonando. Batería restante: 190.\n"
     ]
    }
   ],
   "source": [
    "class Theremin:\n",
    "    def __init__(self, marca, modelo):\n",
    "        self.marca = marca\n",
    "        self.modelo = modelo\n",
    "        self.peso = 500  # Peso predeterminado\n",
    "        self.potencia = 50  # Potencia predeterminada\n",
    "        self.bateria = 200  # Batería predeterminada\n",
    "\n",
    "    def recargar_bateria(self):\n",
    "        \"\"\"Recarga la batería al máximo (200).\"\"\"\n",
    "        self.bateria = 200\n",
    "        print(\"La batería ha sido recargada a 200.\")\n",
    "\n",
    "    def tocar(self):\n",
    "        \"\"\"Intenta tocar el theremin y reduce la batería.\"\"\"\n",
    "        if self.bateria > 0:\n",
    "            self.bateria -= 10\n",
    "            print(f\"El theremin está sonando. Batería restante: {self.bateria}.\")\n",
    "        else:\n",
    "            print(\"No hay suficiente batería para tocar el theremin.\")\n",
    "\n",
    "# Crear un theremin\n",
    "mi_theremin = Theremin(\"MarcaEjemplo\", \"ModeloX\")\n",
    "\n",
    "# Tocar el theremin hasta que se agote la batería\n",
    "while mi_theremin.bateria > 0:\n",
    "    mi_theremin.tocar()\n",
    "\n",
    "# Recargar la batería y tocar de nuevo\n",
    "mi_theremin.recargar_bateria()\n",
    "mi_theremin.tocar()"
   ]
  },
  {
   "cell_type": "markdown",
   "id": "30f773b5-a6da-4446-b36b-722b2ee57730",
   "metadata": {},
   "source": [
    "#### Ejercicio 7. Extra (NO PUNTÚA).\n",
    "Una empresa usa dos listas  para guardar la información de sus empleados. Una lista guarda el nombre del empleado y la otra guarda su salario. Escribe un programa que cree esas dos listas originalmente vacías y que a través de un menú pueda hacer lo siguiente:\n",
    "    \n",
    "Inserta 1 para añadir un nuevo empleado y su salario\n",
    "\n",
    "Inserta 2 para imprimir los nombres y salarios de todos los empleados\n",
    "\n",
    "Inserta 3 para mostrar el número de empleados\n",
    "\n",
    "Inserta 4 para imprimir los nombres de los empleados con sueldos superiores a 400000\n",
    "\n",
    "Inserta 5 para subir un 5% los sueldos por debajo de 10000\n",
    "\n",
    "Inserta 6 para mostrar el total de todos los salarios\n",
    "\n",
    "Inserta 7 para salir del programa"
   ]
  },
  {
   "cell_type": "code",
   "execution_count": 23,
   "id": "67858e27-b7f5-4e05-bc50-3fca698ad22a",
   "metadata": {},
   "outputs": [
    {
     "name": "stdout",
     "output_type": "stream",
     "text": [
      "\n",
      "Menú de opciones:\n",
      "1. Añadir un nuevo empleado y su salario\n",
      "2. Imprimir nombres y salarios de todos los empleados\n",
      "3. Mostrar el número de empleados\n",
      "4. Imprimir nombres de empleados con sueldos superiores a 400000\n",
      "5. Subir un 5% los sueldos por debajo de 10000\n",
      "6. Mostrar el total de todos los salarios\n",
      "7. Salir del programa\n"
     ]
    },
    {
     "name": "stdout",
     "output_type": "stream",
     "text": [
      "Empleado 'Carlos Escobar' añadido con un salario de 80000.0.\n",
      "\n",
      "Menú de opciones:\n",
      "1. Añadir un nuevo empleado y su salario\n",
      "2. Imprimir nombres y salarios de todos los empleados\n",
      "3. Mostrar el número de empleados\n",
      "4. Imprimir nombres de empleados con sueldos superiores a 400000\n",
      "5. Subir un 5% los sueldos por debajo de 10000\n",
      "6. Mostrar el total de todos los salarios\n",
      "7. Salir del programa\n",
      "\n",
      "Lista de empleados y salarios:\n",
      "Nombre: Carlos Escobar, Salario: 80000.0\n",
      "\n",
      "Menú de opciones:\n",
      "1. Añadir un nuevo empleado y su salario\n",
      "2. Imprimir nombres y salarios de todos los empleados\n",
      "3. Mostrar el número de empleados\n",
      "4. Imprimir nombres de empleados con sueldos superiores a 400000\n",
      "5. Subir un 5% los sueldos por debajo de 10000\n",
      "6. Mostrar el total de todos los salarios\n",
      "7. Salir del programa\n",
      "\n",
      "Número de empleados: 1\n",
      "\n",
      "Menú de opciones:\n",
      "1. Añadir un nuevo empleado y su salario\n",
      "2. Imprimir nombres y salarios de todos los empleados\n",
      "3. Mostrar el número de empleados\n",
      "4. Imprimir nombres de empleados con sueldos superiores a 400000\n",
      "5. Subir un 5% los sueldos por debajo de 10000\n",
      "6. Mostrar el total de todos los salarios\n",
      "7. Salir del programa\n",
      "\n",
      "Empleados con sueldos superiores a 400000:\n",
      "No hay empleados con sueldos superiores a 400000.\n",
      "\n",
      "Menú de opciones:\n",
      "1. Añadir un nuevo empleado y su salario\n",
      "2. Imprimir nombres y salarios de todos los empleados\n",
      "3. Mostrar el número de empleados\n",
      "4. Imprimir nombres de empleados con sueldos superiores a 400000\n",
      "5. Subir un 5% los sueldos por debajo de 10000\n",
      "6. Mostrar el total de todos los salarios\n",
      "7. Salir del programa\n",
      "\n",
      "Aplicando aumento del 5% a sueldos menores a 10000...\n",
      "No hay empleados con sueldos por debajo de 10000.\n",
      "\n",
      "Menú de opciones:\n",
      "1. Añadir un nuevo empleado y su salario\n",
      "2. Imprimir nombres y salarios de todos los empleados\n",
      "3. Mostrar el número de empleados\n",
      "4. Imprimir nombres de empleados con sueldos superiores a 400000\n",
      "5. Subir un 5% los sueldos por debajo de 10000\n",
      "6. Mostrar el total de todos los salarios\n",
      "7. Salir del programa\n",
      "\n",
      "Total de todos los salarios: 80000.0\n",
      "\n",
      "Menú de opciones:\n",
      "1. Añadir un nuevo empleado y su salario\n",
      "2. Imprimir nombres y salarios de todos los empleados\n",
      "3. Mostrar el número de empleados\n",
      "4. Imprimir nombres de empleados con sueldos superiores a 400000\n",
      "5. Subir un 5% los sueldos por debajo de 10000\n",
      "6. Mostrar el total de todos los salarios\n",
      "7. Salir del programa\n",
      "Empleado 'Carlos Perez' añadido con un salario de 200000.0.\n",
      "\n",
      "Menú de opciones:\n",
      "1. Añadir un nuevo empleado y su salario\n",
      "2. Imprimir nombres y salarios de todos los empleados\n",
      "3. Mostrar el número de empleados\n",
      "4. Imprimir nombres de empleados con sueldos superiores a 400000\n",
      "5. Subir un 5% los sueldos por debajo de 10000\n",
      "6. Mostrar el total de todos los salarios\n",
      "7. Salir del programa\n",
      "Saliendo del programa...\n"
     ]
    }
   ],
   "source": [
    "# Inicialización de las listas\n",
    "nombres_empleados = []\n",
    "salarios_empleados = []\n",
    "\n",
    "def menu():\n",
    "    print(\"\\nMenú de opciones:\")\n",
    "    print(\"1. Añadir un nuevo empleado y su salario\")\n",
    "    print(\"2. Imprimir nombres y salarios de todos los empleados\")\n",
    "    print(\"3. Mostrar el número de empleados\")\n",
    "    print(\"4. Imprimir nombres de empleados con sueldos superiores a 400000\")\n",
    "    print(\"5. Subir un 5% los sueldos por debajo de 10000\")\n",
    "    print(\"6. Mostrar el total de todos los salarios\")\n",
    "    print(\"7. Salir del programa\")\n",
    "\n",
    "while True:\n",
    "    menu()\n",
    "    opcion = input(\"Elige una opción: \")\n",
    "    \n",
    "    if opcion == '1':\n",
    "        # Añadir nuevo empleado y su salario\n",
    "        nombre = input(\"Introduce el nombre del empleado: \")\n",
    "        salario = float(input(\"Introduce el salario del empleado: \"))\n",
    "        nombres_empleados.append(nombre)\n",
    "        salarios_empleados.append(salario)\n",
    "        print(f\"Empleado '{nombre}' añadido con un salario de {salario}.\")\n",
    "        \n",
    "    elif opcion == '2':\n",
    "        # Imprimir nombres y salarios de todos los empleados\n",
    "        if nombres_empleados:\n",
    "            print(\"\\nLista de empleados y salarios:\")\n",
    "            for nombre, salario in zip(nombres_empleados, salarios_empleados):\n",
    "                print(f\"Nombre: {nombre}, Salario: {salario}\")\n",
    "        else:\n",
    "            print(\"No hay empleados registrados.\")\n",
    "            \n",
    "    elif opcion == '3':\n",
    "        # Mostrar el número de empleados\n",
    "        print(f\"\\nNúmero de empleados: {len(nombres_empleados)}\")\n",
    "        \n",
    "    elif opcion == '4':\n",
    "        # Imprimir nombres de empleados con sueldos superiores a 400000\n",
    "        print(\"\\nEmpleados con sueldos superiores a 400000:\")\n",
    "        encontrados = False\n",
    "        for nombre, salario in zip(nombres_empleados, salarios_empleados):\n",
    "            if salario > 400000:\n",
    "                print(f\"Nombre: {nombre}\")\n",
    "                encontrados = True\n",
    "        if not encontrados:\n",
    "            print(\"No hay empleados con sueldos superiores a 400000.\")\n",
    "                \n",
    "    elif opcion == '5':\n",
    "        # Subir un 5% los sueldos por debajo de 10000\n",
    "        print(\"\\nAplicando aumento del 5% a sueldos menores a 10000...\")\n",
    "        aumento_realizado = False\n",
    "        for i in range(len(salarios_empleados)):\n",
    "            if salarios_empleados[i] < 10000:\n",
    "                salarios_empleados[i] *= 1.05\n",
    "                print(f\"Nuevo salario para {nombres_empleados[i]}: {salarios_empleados[i]}\")\n",
    "                aumento_realizado = True\n",
    "        if not aumento_realizado:\n",
    "            print(\"No hay empleados con sueldos por debajo de 10000.\")\n",
    "                \n",
    "    elif opcion == '6':\n",
    "        # Mostrar el total de todos los salarios\n",
    "        total_salarios = sum(salarios_empleados)\n",
    "        print(f\"\\nTotal de todos los salarios: {total_salarios}\")\n",
    "        \n",
    "    elif opcion == '7':\n",
    "        # Salir del programa\n",
    "        print(\"Saliendo del programa...\")\n",
    "        break\n",
    "        \n",
    "    else:\n",
    "        print(\"Opción no válida. Intenta de nuevo.\")"
   ]
  },
  {
   "cell_type": "markdown",
   "id": "e33a0e21-476e-4103-b889-a6b3e76b99f3",
   "metadata": {},
   "source": [
    "\n",
    "####  Ejercicio 8. EXTRA (NO PUNTÚA).\n",
    "\n",
    "Escribe un programa que __USE RECURSIVIDAD__ para decidir cuál es la película de Pixar favorita de un usuario.\n",
    "El programa preguntará al usuario cuál de 2 películas es su favorita, y con esa favorita se le volverá a preguntar entre esa y otra película cuál es su favorita...y así hasta que el usuario haya decidido de entre todas cuál es su favorita.\n",
    "\n",
    "Pista: si no quieres cambiar una lista, usa copy() y tendrás una copia que es otro objeto\n",
    "\n"
   ]
  },
  {
   "cell_type": "code",
   "execution_count": 25,
   "id": "c9936fd4-6d29-4535-9f34-a6f289d18d8b",
   "metadata": {},
   "outputs": [
    {
     "name": "stdout",
     "output_type": "stream",
     "text": [
      "¿Cuál es tu favorita entre 'Toy Story' y 'Monsters, Inc.'?\n",
      "Opción no válida. Por favor, elige 1 o 2.\n",
      "¿Cuál es tu favorita entre 'Toy Story' y 'Monsters, Inc.'?\n",
      "¿Cuál es tu favorita entre 'Toy Story' y 'Finding Nemo'?\n",
      "¿Cuál es tu favorita entre 'Finding Nemo' y 'The Incredibles'?\n",
      "¿Cuál es tu favorita entre 'The Incredibles' y 'Cars'?\n",
      "¿Cuál es tu favorita entre 'The Incredibles' y 'Ratatouille'?\n",
      "¿Cuál es tu favorita entre 'Ratatouille' y 'Wall-E'?\n",
      "¿Cuál es tu favorita entre 'Ratatouille' y 'Up'?\n",
      "¿Cuál es tu favorita entre 'Up' y 'Toy Story 3'?\n",
      "Opción no válida. Por favor, elige 1 o 2.\n",
      "¿Cuál es tu favorita entre 'Up' y 'Toy Story 3'?\n",
      "¿Cuál es tu favorita entre 'Toy Story 3' y 'Inside Out'?\n",
      "¡Tu película favorita de Pixar es 'Toy Story 3'!\n"
     ]
    }
   ],
   "source": [
    "# Lista de películas de Pixar\n",
    "peliculas_pixar = [\"Toy Story\", \"Monsters, Inc.\", \"Finding Nemo\", \"The Incredibles\", \n",
    "                   \"Cars\", \"Ratatouille\", \"Wall-E\", \"Up\", \"Toy Story 3\", \"Inside Out\"]\n",
    "\n",
    "def preguntar_favorita(lista):\n",
    "    # Si solo queda una película, es la favorita final\n",
    "    if len(lista) == 1:\n",
    "        return lista[0]\n",
    "    \n",
    "    # Tomamos las primeras dos películas de la lista\n",
    "    opcion1 = lista[0]\n",
    "    opcion2 = lista[1]\n",
    "    \n",
    "    # Pregunta al usuario cuál es su favorita entre las dos opciones\n",
    "    print(f\"¿Cuál es tu favorita entre '{opcion1}' y '{opcion2}'?\")\n",
    "    favorita = input(\"Escribe 1 para la primera o 2 para la segunda: \")\n",
    "    \n",
    "    # Valida la entrada del usuario y elige la favorita\n",
    "    if favorita == \"1\":\n",
    "        # Llama recursivamente con una lista que comienza con la película favorita\n",
    "        return preguntar_favorita([opcion1] + lista[2:])\n",
    "    elif favorita == \"2\":\n",
    "        # Llama recursivamente con una lista que comienza con la película favorita\n",
    "        return preguntar_favorita([opcion2] + lista[2:])\n",
    "    else:\n",
    "        print(\"Opción no válida. Por favor, elige 1 o 2.\")\n",
    "        return preguntar_favorita(lista)  # Vuelve a preguntar con la misma lista\n",
    "\n",
    "# Ejecuta la función con una copia de la lista de películas para evitar cambios en la original\n",
    "favorita = preguntar_favorita(peliculas_pixar.copy())\n",
    "print(f\"¡Tu película favorita de Pixar es '{favorita}'!\")"
   ]
  },
  {
   "cell_type": "code",
   "execution_count": 1,
   "id": "10a7b881",
   "metadata": {},
   "outputs": [],
   "source": [
    "# FIN DEL EXAMEN"
   ]
  },
  {
   "cell_type": "code",
   "execution_count": null,
   "id": "a1c9a6fa",
   "metadata": {},
   "outputs": [],
   "source": []
  }
 ],
 "metadata": {
  "kernelspec": {
   "display_name": "Python 3",
   "language": "python",
   "name": "python3"
  },
  "language_info": {
   "codemirror_mode": {
    "name": "ipython",
    "version": 3
   },
   "file_extension": ".py",
   "mimetype": "text/x-python",
   "name": "python",
   "nbconvert_exporter": "python",
   "pygments_lexer": "ipython3",
   "version": "3.7.9"
  }
 },
 "nbformat": 4,
 "nbformat_minor": 5
}
