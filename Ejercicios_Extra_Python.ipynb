{
 "cells": [
  {
   "cell_type": "markdown",
   "metadata": {
    "id": "tLHYB4TfxiL2"
   },
   "source": [
    "![TheBridge_logo_RGB_color.jpg](attachment:TheBridge_logo_RGB_color.jpg)"
   ]
  },
  {
   "cell_type": "markdown",
   "metadata": {
    "id": "RuoQHLMLxiL3"
   },
   "source": [
    "![ejercicios.png](attachment:ejercicios.png)"
   ]
  },
  {
   "cell_type": "markdown",
   "metadata": {
    "id": "9eeW2Tf5xiL4"
   },
   "source": [
    "## EJERCICIOS PYTHON EXTRA:"
   ]
  },
  {
   "cell_type": "markdown",
   "metadata": {
    "id": "dRNISVXHxiL4"
   },
   "source": [
    "Los siguientes ejercicios son para que practiques por tu cuenta si te apetece. No es obligatorio hacerlo, pero seguramente te divertirás practicando con ellos. Si quieres la solución, no te cortes, y pídela :-)"
   ]
  },
  {
   "cell_type": "markdown",
   "metadata": {
    "id": "jPIs_P02xiL4"
   },
   "source": [
    "## Ejercicio 1\n",
    "Crea un programa que recoja dos inputs. Tiene que comprobar si su suma es igual, superior o inferior a 10"
   ]
  },
  {
   "cell_type": "code",
   "execution_count": 1,
   "metadata": {
    "id": "yoZhH2aIxiL4"
   },
   "outputs": [
    {
     "name": "stdout",
     "output_type": "stream",
     "text": [
      "La suma de los números es mayor que 10.\n"
     ]
    }
   ],
   "source": [
    "# Solicita dos números al usuario\n",
    "numero1 = float(input(\"Introduce el primer número: \"))\n",
    "numero2 = float(input(\"Introduce el segundo número: \"))\n",
    "\n",
    "# Calcula la suma de los dos números\n",
    "suma = numero1 + numero2\n",
    "\n",
    "# Compara la suma con el valor 10 y muestra el mensaje correspondiente\n",
    "if suma == 10:\n",
    "    print(\"La suma de los números es igual a 10.\")\n",
    "elif suma > 10:\n",
    "    print(\"La suma de los números es mayor que 10.\")\n",
    "else:\n",
    "    print(\"La suma de los números es menor que 10.\")"
   ]
  },
  {
   "cell_type": "markdown",
   "metadata": {
    "id": "f8ARHHaMxiL4"
   },
   "source": [
    "## Ejercicio 2\n",
    "Solicite al usuario dos números enteros usando la función input. Calcule la suma de estos dos números y muestre el resultado. Recuerde convertir adecuadamente los tipos de datos."
   ]
  },
  {
   "cell_type": "code",
   "execution_count": 2,
   "metadata": {
    "id": "bW-CELPYxiL4"
   },
   "outputs": [
    {
     "name": "stdout",
     "output_type": "stream",
     "text": [
      "La suma de 10 y 5 es: 15\n"
     ]
    }
   ],
   "source": [
    "# Solicita dos números enteros al usuario\n",
    "numero1 = int(input(\"Introduce el primer número entero: \"))\n",
    "numero2 = int(input(\"Introduce el segundo número entero: \"))\n",
    "\n",
    "# Calcula la suma de los dos números\n",
    "suma = numero1 + numero2\n",
    "\n",
    "# Muestra el resultado de la suma\n",
    "print(f\"La suma de {numero1} y {numero2} es: {suma}\")"
   ]
  },
  {
   "cell_type": "markdown",
   "metadata": {
    "id": "tdcklSQ7xiL4"
   },
   "source": [
    "## Ejercicio 3\n",
    "Sobre el programa del ejercicio anterior, y recordando el que se hizo en el workout para saber si un número es par, comprueba si alguno de los números introducidos por el usuario es multiplo del otro\n"
   ]
  },
  {
   "cell_type": "markdown",
   "metadata": {
    "id": "S4myf85oxiL5"
   },
   "source": [
    "Recuerda el código que vimos en la sesión online del workout:\n",
    "```Python\n",
    "n = 23\n",
    "print(\"¿Es\",n,\"par?\")\n",
    "resto = n%2\n",
    "print(\"El resto es\", resto)\n",
    "# Si queremos que nos haga el las comparaciones usaremos el comando if, adelantándonos un poco\n",
    "if resto == 0:\n",
    "    print(\"Es par\")\n",
    "else:\n",
    "    print(\"Es impar\")\n",
    "```"
   ]
  },
  {
   "cell_type": "code",
   "execution_count": 4,
   "metadata": {
    "id": "hpXbfrVrxiL5"
   },
   "outputs": [
    {
     "name": "stdout",
     "output_type": "stream",
     "text": [
      "10 es par\n",
      "5 es impar\n",
      "10 es múltiplo de 5\n"
     ]
    }
   ],
   "source": [
    "# Solicita dos números enteros al usuario\n",
    "numero1 = int(input(\"Introduce el primer número entero: \"))\n",
    "numero2 = int(input(\"Introduce el segundo número entero: \"))\n",
    "\n",
    "# Determina si el primer número es par o impar\n",
    "if numero1 % 2 == 0:\n",
    "    print(f\"{numero1} es par\")\n",
    "else:\n",
    "    print(f\"{numero1} es impar\")\n",
    "\n",
    "# Determina si el segundo número es par o impar\n",
    "if numero2 % 2 == 0:\n",
    "    print(f\"{numero2} es par\")\n",
    "else:\n",
    "    print(f\"{numero2} es impar\")\n",
    "\n",
    "# Comprueba si alguno de los números es múltiplo del otro\n",
    "if numero1 % numero2 == 0:\n",
    "    print(f\"{numero1} es múltiplo de {numero2}\")\n",
    "elif numero2 % numero1 == 0:\n",
    "    print(f\"{numero2} es múltiplo de {numero1}\")\n",
    "else:\n",
    "    print(\"Ninguno de los números es múltiplo del otro\")"
   ]
  },
  {
   "cell_type": "markdown",
   "metadata": {
    "id": "Q_fe0FCJxiL5"
   },
   "source": [
    "## Ejercicio 4\n",
    "\n",
    "Introduce el 0 como valor en uno de los inputs en el programa anterior y comprueba que sucede. Explica el resultado"
   ]
  },
  {
   "cell_type": "code",
   "execution_count": 5,
   "metadata": {
    "id": "DerXwOYGxiL5"
   },
   "outputs": [
    {
     "name": "stdout",
     "output_type": "stream",
     "text": [
      "0 es par\n",
      "5 es impar\n",
      "No se puede verificar múltiplos cuando uno de los números es 0\n"
     ]
    }
   ],
   "source": [
    "# Solicita dos números enteros al usuario\n",
    "numero1 = int(input(\"Introduce el primer número entero: \"))\n",
    "numero2 = int(input(\"Introduce el segundo número entero: \"))\n",
    "\n",
    "# Determina si el primer número es par o impar\n",
    "if numero1 % 2 == 0:\n",
    "    print(f\"{numero1} es par\")\n",
    "else:\n",
    "    print(f\"{numero1} es impar\")\n",
    "\n",
    "# Determina si el segundo número es par o impar\n",
    "if numero2 % 2 == 0:\n",
    "    print(f\"{numero2} es par\")\n",
    "else:\n",
    "    print(f\"{numero2} es impar\")\n",
    "\n",
    "# Comprueba si alguno de los números es múltiplo del otro, si ninguno es cero\n",
    "if numero1 != 0 and numero2 != 0:\n",
    "    if numero1 % numero2 == 0:\n",
    "        print(f\"{numero1} es múltiplo de {numero2}\")\n",
    "    elif numero2 % numero1 == 0:\n",
    "        print(f\"{numero2} es múltiplo de {numero1}\")\n",
    "    else:\n",
    "        print(\"Ninguno de los números es múltiplo del otro\")\n",
    "else:\n",
    "    print(\"No se puede verificar múltiplos cuando uno de los números es 0\")"
   ]
  },
  {
   "cell_type": "markdown",
   "metadata": {
    "id": "YpMfortDxiL5"
   },
   "source": [
    "## Ejercicio 5\n",
    "\n",
    "1. Convierte la frase \"La primera vez que conocí a Terry Lenox\" en una lista de palabras.\n",
    "2. Cambia de dos formas diferentes \"Terry\" por \"John\".\n",
    "3. Ordena alfabéticamente la lista resultante.\n",
    "4. Investiga sobre el método join de los strings, y convierte la lista de nuevo en un string con las palabras separadas por espacios. Para ello empieza practicando (en otra celda):  \n",
    "    ```Python\n",
    "    \"\\n\".join([\"Primera linea\",\"segunda linea\",\"tercera linea])\n",
    "    ```  \n",
    "    \n",
    "5. Pasa el string resultante a mayúsculas e imprímelo."
   ]
  },
  {
   "cell_type": "code",
   "execution_count": 19,
   "metadata": {},
   "outputs": [
    {
     "name": "stdout",
     "output_type": "stream",
     "text": [
      "['La', 'primera', 'vez', 'que', 'conocí', 'a', 'Terry', 'Lenox']\n"
     ]
    }
   ],
   "source": [
    "# 1. Convierte la frase en una lista de palabras\n",
    "frase = \"La primera vez que conocí a Terry Lenox\"\n",
    "lista_palabras = frase.split()\n",
    "print(lista_palabras)\n"
   ]
  },
  {
   "cell_type": "code",
   "execution_count": 18,
   "metadata": {},
   "outputs": [
    {
     "name": "stdout",
     "output_type": "stream",
     "text": [
      "['La', 'primera', 'vez', 'que', 'conocí', 'a', 'John', 'Lenox']\n"
     ]
    }
   ],
   "source": [
    "# 2. Reemplaza \"Terry\" por \"John\" de dos formas diferentes\n",
    "# Forma 1: Usando un bucle para buscar y reemplazar\n",
    "lista_palabras = ['John' if palabra == 'Terry' else palabra for palabra in lista_palabras]\n",
    "print(lista_palabras)"
   ]
  },
  {
   "cell_type": "code",
   "execution_count": 17,
   "metadata": {},
   "outputs": [
    {
     "name": "stdout",
     "output_type": "stream",
     "text": [
      "['La', 'primera', 'vez', 'que', 'conocí', 'a', 'John', 'Lenox']\n"
     ]
    }
   ],
   "source": [
    "# Forma 2: Usando el método replace sobre el string completo (para otra versión de la frase)\n",
    "frase_modificada = frase.replace(\"Terry\", \"John\")\n",
    "lista_palabras_modificada = frase_modificada.split()\n",
    "print(lista_palabras_modificada)"
   ]
  },
  {
   "cell_type": "code",
   "execution_count": 16,
   "metadata": {},
   "outputs": [
    {
     "name": "stdout",
     "output_type": "stream",
     "text": [
      "['John', 'La', 'Lenox', 'a', 'conocí', 'primera', 'que', 'vez']\n"
     ]
    }
   ],
   "source": [
    "# 3. Ordena la lista alfabéticamente\n",
    "lista_ordenada = sorted(lista_palabras)\n",
    "print(lista_ordenada)"
   ]
  },
  {
   "cell_type": "code",
   "execution_count": 15,
   "metadata": {},
   "outputs": [
    {
     "name": "stdout",
     "output_type": "stream",
     "text": [
      "John La Lenox a conocí primera que vez\n"
     ]
    }
   ],
   "source": [
    "# 4. Convierte la lista de nuevo en un string usando join\n",
    "string_resultante = \" \".join(lista_ordenada)\n",
    "print(string_resultante)"
   ]
  },
  {
   "cell_type": "code",
   "execution_count": 12,
   "metadata": {},
   "outputs": [
    {
     "name": "stdout",
     "output_type": "stream",
     "text": [
      "JOHN LA LENOX A CONOCÍ PRIMERA QUE VEZ\n"
     ]
    }
   ],
   "source": [
    "# 5. Transforma el string a mayúsculas y muéstralo\n",
    "string_mayusculas = string_resultante.upper()\n",
    "print(string_mayusculas)"
   ]
  },
  {
   "cell_type": "markdown",
   "metadata": {
    "id": "uIwsFo4DxiL5"
   },
   "source": []
  }
 ],
 "metadata": {
  "colab": {
   "provenance": []
  },
  "kernelspec": {
   "display_name": "Python 3",
   "language": "python",
   "name": "python3"
  },
  "language_info": {
   "codemirror_mode": {
    "name": "ipython",
    "version": 3
   },
   "file_extension": ".py",
   "mimetype": "text/x-python",
   "name": "python",
   "nbconvert_exporter": "python",
   "pygments_lexer": "ipython3",
   "version": "3.7.9"
  },
  "orig_nbformat": 4
 },
 "nbformat": 4,
 "nbformat_minor": 0
}
