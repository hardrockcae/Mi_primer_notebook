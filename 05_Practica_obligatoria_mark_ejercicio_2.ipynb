{
 "cells": [
  {
   "cell_type": "markdown",
   "metadata": {},
   "source": [
    "| Ramp Up     | Data Analysis  | Machine Learning | Data & Business  |\n",
    "|-------------|----------------|------------------|------------------|\n",
    "| Python      | EDA            | Supervised       | Productivización  |\n",
    "| Estadística | R              | Non supervised   | Storytelling      |\n",
    "| SQL         | Feat. Eng.     | Deep Learning    | API               |\n",
    "\n",
    "---\n",
    "\n",
    "$$\n",
    "\\sqrt{3x - 1} + (1 + x)^2\n",
    "$$"
   ]
  }
 ],
 "metadata": {
  "kernelspec": {
   "display_name": "Python 3",
   "language": "python",
   "name": "python3"
  },
  "language_info": {
   "codemirror_mode": {
    "name": "ipython",
    "version": 3
   },
   "file_extension": ".py",
   "mimetype": "text/x-python",
   "name": "python",
   "nbconvert_exporter": "python",
   "pygments_lexer": "ipython3",
   "version": "3.13.0"
  }
 },
 "nbformat": 4,
 "nbformat_minor": 2
}
