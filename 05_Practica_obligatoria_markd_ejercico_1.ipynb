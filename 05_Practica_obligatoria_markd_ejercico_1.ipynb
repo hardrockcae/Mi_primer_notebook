{
 "cells": [
  {
   "cell_type": "markdown",
   "metadata": {},
   "source": [
    "#Lo más importante\n",
    "\n",
    "* Matemáticas\n",
    "\n",
    "* Python\n",
    "\n",
    "* SQL"
   ]
  },
  {
   "cell_type": "markdown",
   "metadata": {},
   "source": [
    "![Logo de Python](https://upload.wikimedia.org/wikipedia/commons/c/c3/Python-logo-notext.svg)  "
   ]
  },
  {
   "cell_type": "markdown",
   "metadata": {},
   "source": [
    "Otro tema importante es el de ***Bussiness Inteligence\n",
    "\n",
    "Si tienes dudas, puedes escribirme a <hardrockcae@hotmail.com>"
   ]
  }
 ],
 "metadata": {
  "language_info": {
   "name": "python"
  }
 },
 "nbformat": 4,
 "nbformat_minor": 2
}
